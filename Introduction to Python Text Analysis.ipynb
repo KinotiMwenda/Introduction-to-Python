{
 "cells": [
  {
   "cell_type": "markdown",
   "id": "6fa2cce2",
   "metadata": {},
   "source": [
    "# Text Analysys\n",
    "This refers to the process of extracting meaningful information from textual data\n",
    "We will use the following data types in this notebook:\n",
    "* Lists\n",
    "* Strings\n",
    "* Classes and objects"
   ]
  },
  {
   "cell_type": "markdown",
   "id": "9839aeed",
   "metadata": {},
   "source": [
    "### Let's consider a real-life scenario where you are analyzing customer feedback for a product. You have a large dataset of customer reviews in the form of strings, and you want to extract useful information from them using the three identified tasks:\n",
    "\n",
    "**Task 1. String in lower case:**\n",
    "You want to Pre-process the customer feedback by converting all the text to lowercase. This step helps standardize the text. Lower casing the text allows you to focus on the content rather than the specific letter casing.\n",
    "\n",
    "**Task 2. Frequency of all words in a given string:**\n",
    "After converting the text to lowercase, you want to determine the frequency of each word in the customer feedback. This information will help you identify which words are used more frequently, indicating the key aspects or topics that customers are mentioning in their reviews. By analyzing the word frequencies, you can gain insights into the most common issues raised by customers.\n",
    "\n",
    "**Task 3. Frequency of a specific word:**\n",
    "In addition to analyzing the overall word frequencies, you want to specifically track the frequency of a particular word that is relevant to your analysis. For example, you might be interested in monitoring how often the word \"reliable\" appears in the customer reviews to gauge customer sentiment about the product's reliability. By focusing on the frequency of a specific word, you can gain a deeper understanding of customer opinions or preferences related to that particular aspect.\n",
    "\n",
    "By performing these tasks on the customer feedback dataset, you can gain valuable insights into customer sentiment\n"
   ]
  },
  {
   "cell_type": "markdown",
   "id": "83b7be46",
   "metadata": {},
   "source": [
    "    \n",
    "# Part-A\n"
   ]
  },
  {
   "cell_type": "markdown",
   "id": "32bf43d9",
   "metadata": {},
   "source": [
    "## Step-1 Define a string. \n",
    "\"Lorem ipsum dolor! diam amet, consetetur Lorem magna. sed diam nonumy eirmod tempor. diam et labore? et diam magna. et diam amet.\" <br>\n",
    "**Hint:- Use a variable and store the above string.**\n"
   ]
  },
  {
   "cell_type": "code",
   "execution_count": 2,
   "id": "06b72b1a",
   "metadata": {},
   "outputs": [],
   "source": [
    "string1 = \"Lorem ipsum dolor! diam amet, consetetur Lorem magna. sed diam nonumy eirmod tempor. diam et labore? et diam magna. et diam amet.\""
   ]
  },
  {
   "cell_type": "code",
   "execution_count": 31,
   "id": "1b548472",
   "metadata": {},
   "outputs": [],
   "source": [
    "#now we make a class and methods to analyze text\n",
    "\n",
    "class textanalyzer(object):\n",
    "\n",
    "#the first method is the constructor that takes a text argument\n",
    "    def __init__(self, text):\n",
    "    \n",
    "#define a removing punctuation marks, and assign the formatted text to a new variable fmttxt\n",
    "        formattedtext = text.replace('.',' ').replace(',', '').replace('?', ' ').replace('!', ' ')\n",
    "\n",
    "#define a method to change the text to lower case\n",
    "        formattedtext = formattedtext.lower()\n",
    "    \n",
    "#Save the text in a new text\n",
    "        self.fmttext = formattedtext\n",
    "    \n",
    "    def freqall(self):\n",
    "#split the text into a list\n",
    "        wordlist = self.fmttext.split(' ')\n",
    "    \n",
    "#create a dictionary\n",
    "        freqmap = {}\n",
    "        for word in set(wordlist): #set removes duplicates in wordlist\n",
    "            freqmap[word] = wordlist.count(word)\n",
    "            \n",
    "        return(freqmap)\n",
    "    \n",
    "#the last method is freqof to count the frequency of a particular word\n",
    "    def freqof(self, word):\n",
    "#get frequency map\n",
    "        freqdict = self.freqall()\n",
    "        \n",
    "        if word in freqdict:\n",
    "            return(freqdict[word])\n",
    "        else:\n",
    "            return 0"
   ]
  },
  {
   "cell_type": "markdown",
   "id": "41ac18f6",
   "metadata": {},
   "source": [
    "### Functions application"
   ]
  },
  {
   "cell_type": "code",
   "execution_count": 32,
   "id": "870de7e2",
   "metadata": {},
   "outputs": [],
   "source": [
    "#create an instance of textanalyzer class\n",
    "analyzedtxt = textanalyzer(string1)\n"
   ]
  },
  {
   "cell_type": "code",
   "execution_count": 33,
   "id": "3fec03ce",
   "metadata": {},
   "outputs": [
    {
     "name": "stdout",
     "output_type": "stream",
     "text": [
      "formatted Text: lorem ipsum dolor  diam amet consetetur lorem magna  sed diam nonumy eirmod tempor  diam et labore  et diam magna  et diam amet \n"
     ]
    }
   ],
   "source": [
    "#call the function that converts the data into lower case\n",
    "print('formatted Text:', analyzedtxt.fmttext)"
   ]
  },
  {
   "cell_type": "code",
   "execution_count": 34,
   "id": "aa3a5c54",
   "metadata": {},
   "outputs": [
    {
     "data": {
      "text/plain": [
       "{'': 6,\n",
       " 'diam': 5,\n",
       " 'consetetur': 1,\n",
       " 'lorem': 2,\n",
       " 'sed': 1,\n",
       " 'labore': 1,\n",
       " 'tempor': 1,\n",
       " 'magna': 2,\n",
       " 'dolor': 1,\n",
       " 'nonumy': 1,\n",
       " 'ipsum': 1,\n",
       " 'amet': 2,\n",
       " 'eirmod': 1,\n",
       " 'et': 3}"
      ]
     },
     "execution_count": 34,
     "metadata": {},
     "output_type": "execute_result"
    }
   ],
   "source": [
    "#call the function that counts the frequency of all the unique words\n",
    "freqmap = analyzedtxt.freqall()\n",
    "freqmap"
   ]
  },
  {
   "cell_type": "code",
   "execution_count": 36,
   "id": "97e6d99f",
   "metadata": {},
   "outputs": [
    {
     "data": {
      "text/plain": [
       "2"
      ]
     },
     "execution_count": 36,
     "metadata": {},
     "output_type": "execute_result"
    }
   ],
   "source": [
    "#call the function that counts the frequency of specific words\n",
    "word = 'lorem'\n",
    "freqlorem = analyzedtxt.freqof('lorem')\n",
    "freqlorem"
   ]
  },
  {
   "cell_type": "code",
   "execution_count": null,
   "id": "4e62d68d",
   "metadata": {},
   "outputs": [],
   "source": []
  }
 ],
 "metadata": {
  "kernelspec": {
   "display_name": "Python 3 (ipykernel)",
   "language": "python",
   "name": "python3"
  },
  "language_info": {
   "codemirror_mode": {
    "name": "ipython",
    "version": 3
   },
   "file_extension": ".py",
   "mimetype": "text/x-python",
   "name": "python",
   "nbconvert_exporter": "python",
   "pygments_lexer": "ipython3",
   "version": "3.10.9"
  }
 },
 "nbformat": 4,
 "nbformat_minor": 5
}
