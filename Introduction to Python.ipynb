{
 "cells": [
  {
   "cell_type": "markdown",
   "id": "11ecc13c",
   "metadata": {},
   "source": [
    "# Introduction to python"
   ]
  },
  {
   "cell_type": "markdown",
   "id": "1d6ea1eb",
   "metadata": {},
   "source": [
    "This notebook will introduce beginners to basic concepts in R. We will briefly introduce data types, typecasting, expressions, and variables."
   ]
  },
  {
   "cell_type": "markdown",
   "id": "12c8d7c1",
   "metadata": {},
   "source": [
    "### Data Types"
   ]
  },
  {
   "cell_type": "markdown",
   "id": "ef1944b9",
   "metadata": {},
   "source": [
    "Data types are the basic structuers that represent data in python. The data types that will be covered in this notebook are:\n",
    "* int\n",
    "* float\n",
    "* str\n",
    "* bool\n"
   ]
  },
  {
   "cell_type": "markdown",
   "id": "20acfdfd",
   "metadata": {},
   "source": [
    "   \n",
    "**Expression** |**Data type** |**Example** \n",
    "---------- |--------- |------- \n",
    "Integer |int |11 \n",
    "Real numbers |float |11.123 \n",
    "Words |String |\"Hello World\" \n",
    "compound structures |tuples |(11, 11.123, \"Hello World\")\n",
    "Compound Structures |lists |[11, 11.123, \"Hello World\"]"
   ]
  },
  {
   "cell_type": "markdown",
   "id": "a6e00b0c",
   "metadata": {},
   "source": [
    "In python you can check data type by using the type comand:"
   ]
  },
  {
   "cell_type": "code",
   "execution_count": 6,
   "id": "f592654f",
   "metadata": {},
   "outputs": [
    {
     "data": {
      "text/plain": [
       "int"
      ]
     },
     "execution_count": 6,
     "metadata": {},
     "output_type": "execute_result"
    }
   ],
   "source": [
    "type(11)"
   ]
  },
  {
   "cell_type": "code",
   "execution_count": 7,
   "id": "d6e4ae99",
   "metadata": {},
   "outputs": [
    {
     "data": {
      "text/plain": [
       "float"
      ]
     },
     "execution_count": 7,
     "metadata": {},
     "output_type": "execute_result"
    }
   ],
   "source": [
    "type(11.123)"
   ]
  },
  {
   "cell_type": "markdown",
   "id": "439f6004",
   "metadata": {},
   "source": [
    "Integer types can be positive or negative. Examples: ..., -4, -3, -2, -1, 0, 1, 2, 3, 4, ... There is a finite range of integers but it is quite large.Floats include integers and the numbers between them. Foe example, ..., -1, -0.9, -0.8, -0.7, -0.6, -0.5, ...\n",
    "You can learn more about the specifics of int and float data types for yur runtime environments using the inbuilt commands sys.float_info, and sys.int_info"
   ]
  },
  {
   "cell_type": "code",
   "execution_count": 70,
   "id": "78f62b87",
   "metadata": {},
   "outputs": [
    {
     "data": {
      "text/plain": [
       "sys.float_info(max=1.7976931348623157e+308, max_exp=1024, max_10_exp=308, min=2.2250738585072014e-308, min_exp=-1021, min_10_exp=-307, dig=15, mant_dig=53, epsilon=2.220446049250313e-16, radix=2, rounds=1)"
      ]
     },
     "execution_count": 70,
     "metadata": {},
     "output_type": "execute_result"
    }
   ],
   "source": [
    "sys.float_info"
   ]
  },
  {
   "cell_type": "markdown",
   "id": "166a72fa",
   "metadata": {},
   "source": [
    "##### Strings\n",
    "Now let us learn about strings. This is the data tyoe that represents words. We shall learn about how to create strings, commands related to indexing, slicing, striding, length, concatenating, escape sequence, and string methods to change string case, find substrings in strings, and replace parts of strings."
   ]
  },
  {
   "cell_type": "code",
   "execution_count": 5,
   "id": "e1b28a98",
   "metadata": {},
   "outputs": [
    {
     "data": {
      "text/plain": [
       "str"
      ]
     },
     "execution_count": 5,
     "metadata": {},
     "output_type": "execute_result"
    }
   ],
   "source": [
    "type(\"Hello World\")"
   ]
  },
  {
   "cell_type": "markdown",
   "id": "1375a450",
   "metadata": {},
   "source": [
    "Note that strings are always inside the quotation marks, either teo quotes, \"\", or single quotes ''. However, you cannot mix the diferent types of quotes.  Strings can include spaces, digits, or special characters. \n",
    "Let us think of a string as an oredered sequence of characters where each character can be indexed by the coresponding number, starting from 0."
   ]
  },
  {
   "cell_type": "code",
   "execution_count": 71,
   "id": "779ffac5",
   "metadata": {},
   "outputs": [],
   "source": [
    "name = 'Mwenda Kinoti'"
   ]
  },
  {
   "cell_type": "code",
   "execution_count": 72,
   "id": "1efc7c67",
   "metadata": {},
   "outputs": [
    {
     "data": {
      "text/plain": [
       "'w'"
      ]
     },
     "execution_count": 72,
     "metadata": {},
     "output_type": "execute_result"
    }
   ],
   "source": [
    "name[1]"
   ]
  },
  {
   "cell_type": "markdown",
   "id": "320051ac",
   "metadata": {},
   "source": [
    "We can also use negative indexing where the last character of the string will be indexed by -1."
   ]
  },
  {
   "cell_type": "code",
   "execution_count": 74,
   "id": "59f7e600",
   "metadata": {},
   "outputs": [
    {
     "data": {
      "text/plain": [
       "'i'"
      ]
     },
     "execution_count": 74,
     "metadata": {},
     "output_type": "execute_result"
    }
   ],
   "source": [
    "name[-1]"
   ]
  },
  {
   "cell_type": "markdown",
   "id": "93c58802",
   "metadata": {},
   "source": [
    "Here are more command we can use to operate on strings:"
   ]
  },
  {
   "cell_type": "code",
   "execution_count": 77,
   "id": "c4d9caba",
   "metadata": {},
   "outputs": [
    {
     "data": {
      "text/plain": [
       "'Mwen'"
      ]
     },
     "execution_count": 77,
     "metadata": {},
     "output_type": "execute_result"
    }
   ],
   "source": [
    "#slicing\n",
    "name[0:4]"
   ]
  },
  {
   "cell_type": "code",
   "execution_count": 78,
   "id": "62c56439",
   "metadata": {},
   "outputs": [
    {
     "data": {
      "text/plain": [
       "'Med ioi'"
      ]
     },
     "execution_count": 78,
     "metadata": {},
     "output_type": "execute_result"
    }
   ],
   "source": [
    "#striding in this case returns every second variable\n",
    "name[::2]"
   ]
  },
  {
   "cell_type": "code",
   "execution_count": 79,
   "id": "2a854013",
   "metadata": {},
   "outputs": [
    {
     "data": {
      "text/plain": [
       "'Med'"
      ]
     },
     "execution_count": 79,
     "metadata": {},
     "output_type": "execute_result"
    }
   ],
   "source": [
    "#a combination of slicing and striding returns every second variable up to the fourth position\n",
    "name[0:5:2]"
   ]
  },
  {
   "cell_type": "code",
   "execution_count": 80,
   "id": "18f429bc",
   "metadata": {},
   "outputs": [
    {
     "data": {
      "text/plain": [
       "13"
      ]
     },
     "execution_count": 80,
     "metadata": {},
     "output_type": "execute_result"
    }
   ],
   "source": [
    "#this command shows the length of a string\n",
    "len(name)"
   ]
  },
  {
   "cell_type": "code",
   "execution_count": 81,
   "id": "1d9ecfad",
   "metadata": {},
   "outputs": [
    {
     "data": {
      "text/plain": [
       "'Mweinoti'"
      ]
     },
     "execution_count": 81,
     "metadata": {},
     "output_type": "execute_result"
    }
   ],
   "source": [
    "#this is a command to concatenate strings\n",
    "name[0:3] + name [8:13]"
   ]
  },
  {
   "cell_type": "code",
   "execution_count": 82,
   "id": "a60bd6da",
   "metadata": {},
   "outputs": [
    {
     "data": {
      "text/plain": [
       "'Mwenda KinotiMwenda KinotiMwenda Kinoti'"
      ]
     },
     "execution_count": 82,
     "metadata": {},
     "output_type": "execute_result"
    }
   ],
   "source": [
    "#replicate the value of a string\n",
    "3 * name"
   ]
  },
  {
   "cell_type": "code",
   "execution_count": 87,
   "id": "dc142619",
   "metadata": {},
   "outputs": [
    {
     "name": "stdout",
     "output_type": "stream",
     "text": [
      "an introduction \n",
      " to python\n"
     ]
    }
   ],
   "source": [
    "#backslash introduces escape sequences. \\n starts a new line.\n",
    "print(\"an introduction \\n to python\")"
   ]
  },
  {
   "cell_type": "code",
   "execution_count": 88,
   "id": "929d5444",
   "metadata": {},
   "outputs": [
    {
     "name": "stdout",
     "output_type": "stream",
     "text": [
      "an introduction \t to python\n"
     ]
    }
   ],
   "source": [
    "#\\t represents a tab \n",
    "print(\"an introduction \\t to python\") "
   ]
  },
  {
   "cell_type": "code",
   "execution_count": 89,
   "id": "282d918d",
   "metadata": {},
   "outputs": [
    {
     "name": "stdout",
     "output_type": "stream",
     "text": [
      "to introduce backslash \\\n"
     ]
    }
   ],
   "source": [
    "# use double backslash to introduce a backslash in your string\n",
    "print(\"to introduce backslash \\\\\")"
   ]
  },
  {
   "cell_type": "code",
   "execution_count": 90,
   "id": "262cc215",
   "metadata": {},
   "outputs": [
    {
     "name": "stdout",
     "output_type": "stream",
     "text": [
      "another way to introduce a \\ backslash\n"
     ]
    }
   ],
   "source": [
    "#Another way to introduce a backslash is by putting an r infront of the string\n",
    "print(r\"another way to introduce a \\ backslash\")"
   ]
  },
  {
   "cell_type": "code",
   "execution_count": 92,
   "id": "06239c12",
   "metadata": {},
   "outputs": [
    {
     "data": {
      "text/plain": [
       "'NOW WE LEARN ABOUT STRING METHODS'"
      ]
     },
     "execution_count": 92,
     "metadata": {},
     "output_type": "execute_result"
    }
   ],
   "source": [
    "#upper is a string method that changes the case of the variables in the string\n",
    "old_string = ('now we learn about string methods')\n",
    "new_string = old_string.upper()\n",
    "new_string"
   ]
  },
  {
   "cell_type": "code",
   "execution_count": 94,
   "id": "533f8b88",
   "metadata": {},
   "outputs": [
    {
     "data": {
      "text/plain": [
       "'then we learn about string methods'"
      ]
     },
     "execution_count": 94,
     "metadata": {},
     "output_type": "execute_result"
    }
   ],
   "source": [
    "#another string method is replace which has two arguments: what we want to change, and what we a re replacing it with.\n",
    "old_string = old_string.replace('now', 'then')\n",
    "old_string"
   ]
  },
  {
   "cell_type": "code",
   "execution_count": 97,
   "id": "e2b7a1c9",
   "metadata": {},
   "outputs": [
    {
     "data": {
      "text/plain": [
       "27"
      ]
     },
     "execution_count": 97,
     "metadata": {},
     "output_type": "execute_result"
    }
   ],
   "source": [
    "#our last string method for this section is find, which finds substrings.\n",
    "#The argument is the sub-string you would like to find, and the output is the first index of the sequence\n",
    "old_string.find(\"methods\")"
   ]
  },
  {
   "cell_type": "markdown",
   "id": "6a35e0ae",
   "metadata": {},
   "source": [
    "##### Boolean\n",
    "The next type we shall learn about is boolean. A boolean can take on two values: True or False. Note that boolian values are case sensitive."
   ]
  },
  {
   "cell_type": "code",
   "execution_count": 19,
   "id": "c32f803f",
   "metadata": {},
   "outputs": [
    {
     "data": {
      "text/plain": [
       "bool"
      ]
     },
     "execution_count": 19,
     "metadata": {},
     "output_type": "execute_result"
    }
   ],
   "source": [
    "type(True)"
   ]
  },
  {
   "cell_type": "code",
   "execution_count": 20,
   "id": "92857975",
   "metadata": {},
   "outputs": [
    {
     "data": {
      "text/plain": [
       "bool"
      ]
     },
     "execution_count": 20,
     "metadata": {},
     "output_type": "execute_result"
    }
   ],
   "source": [
    "type(False)"
   ]
  },
  {
   "cell_type": "markdown",
   "id": "6a42a069",
   "metadata": {},
   "source": [
    "##### Tuples\n",
    "This is a compound data type, an ordered sequence expresed as comma separated values inside parathenses. They can contain different types.\n"
   ]
  },
  {
   "cell_type": "code",
   "execution_count": 124,
   "id": "ee06279f",
   "metadata": {},
   "outputs": [
    {
     "data": {
      "text/plain": [
       "tuple"
      ]
     },
     "execution_count": 124,
     "metadata": {},
     "output_type": "execute_result"
    }
   ],
   "source": [
    "animals = ('cat', 'coe' 'dog', 4, 10)\n",
    "type(animals)"
   ]
  },
  {
   "cell_type": "code",
   "execution_count": 111,
   "id": "4f7b1713",
   "metadata": {},
   "outputs": [
    {
     "data": {
      "text/plain": [
       "'cat'"
      ]
     },
     "execution_count": 111,
     "metadata": {},
     "output_type": "execute_result"
    }
   ],
   "source": [
    "#Each element of a tuple can be accessed via an index\n",
    "animals[0]"
   ]
  },
  {
   "cell_type": "code",
   "execution_count": 112,
   "id": "08239d3c",
   "metadata": {},
   "outputs": [
    {
     "data": {
      "text/plain": [
       "10"
      ]
     },
     "execution_count": 112,
     "metadata": {},
     "output_type": "execute_result"
    }
   ],
   "source": [
    "animals[-1]"
   ]
  },
  {
   "cell_type": "code",
   "execution_count": 117,
   "id": "59b3cc77",
   "metadata": {},
   "outputs": [
    {
     "data": {
      "text/plain": [
       "('coedog', 4, 10, 'eagle')"
      ]
     },
     "execution_count": 117,
     "metadata": {},
     "output_type": "execute_result"
    }
   ],
   "source": [
    "#or sliced\n",
    "animals[1:5]"
   ]
  },
  {
   "cell_type": "code",
   "execution_count": 118,
   "id": "89d6c2e0",
   "metadata": {},
   "outputs": [
    {
     "data": {
      "text/plain": [
       "6"
      ]
     },
     "execution_count": 118,
     "metadata": {},
     "output_type": "execute_result"
    }
   ],
   "source": [
    "#len returns lenght of the tupple\n",
    "len(animals)"
   ]
  },
  {
   "cell_type": "code",
   "execution_count": 126,
   "id": "c0f8f498",
   "metadata": {},
   "outputs": [
    {
     "data": {
      "text/plain": [
       "('cat', 'coedog', 4, 10, 'eagle', 'amigo')"
      ]
     },
     "execution_count": 126,
     "metadata": {},
     "output_type": "execute_result"
    }
   ],
   "source": [
    "#tuples can be concatenated\n",
    "animals = animals + (\"eagle\", \"amigo\")\n",
    "animals"
   ]
  },
  {
   "cell_type": "code",
   "execution_count": 128,
   "id": "169045a5",
   "metadata": {},
   "outputs": [
    {
     "data": {
      "text/plain": [
       "('cat', 'coedog', 4, 10, 'eagle', 'amigo')"
      ]
     },
     "execution_count": 128,
     "metadata": {},
     "output_type": "execute_result"
    }
   ],
   "source": [
    "#tuples are immutable, we can't change them\n",
    "animals1 = animals\n",
    "animals = animals + (1, 2, 3)\n",
    "animals1"
   ]
  },
  {
   "cell_type": "code",
   "execution_count": 129,
   "id": "8010df95",
   "metadata": {},
   "outputs": [
    {
     "data": {
      "text/plain": [
       "('angel', 'devil', ('cat', 'coedog', 4, 10, 'eagle', 'amigo', 1, 2, 3))"
      ]
     },
     "execution_count": 129,
     "metadata": {},
     "output_type": "execute_result"
    }
   ],
   "source": [
    "#tuples allow nesting: contain other tuples and complex data types.\n",
    "nested_tuple = ('angel', 'devil', animals)\n",
    "nested_tuple"
   ]
  },
  {
   "cell_type": "code",
   "execution_count": 133,
   "id": "fefee7b2",
   "metadata": {},
   "outputs": [
    {
     "data": {
      "text/plain": [
       "10"
      ]
     },
     "execution_count": 133,
     "metadata": {},
     "output_type": "execute_result"
    }
   ],
   "source": [
    "#you can index tuples within tuples using the conventional methods\n",
    "nested_tuple[2][3]"
   ]
  },
  {
   "cell_type": "markdown",
   "id": "819e3316",
   "metadata": {},
   "source": [
    "###### Scenarion: Disco Time\n",
    "A scenario to practice using tuples"
   ]
  },
  {
   "cell_type": "code",
   "execution_count": 179,
   "id": "2d90e773",
   "metadata": {},
   "outputs": [
    {
     "data": {
      "text/plain": [
       "('pop',\n",
       " 'rock',\n",
       " 'soul',\n",
       " 'hard rock',\n",
       " 'soft rock',\n",
       " 'R&B',\n",
       " 'progressive rock',\n",
       " 'disco')"
      ]
     },
     "execution_count": 179,
     "metadata": {},
     "output_type": "execute_result"
    }
   ],
   "source": [
    "# sample tuple\n",
    "\n",
    "genres_tuple = (\"pop\", \"rock\", \"soul\", \"hard rock\", \"soft rock\", \\\n",
    "                \"R&B\", \"progressive rock\", \"disco\") \n",
    "genres_tuple"
   ]
  },
  {
   "cell_type": "markdown",
   "id": "35d1311c",
   "metadata": {},
   "source": [
    "Task 1: Find the length of the tuple"
   ]
  },
  {
   "cell_type": "code",
   "execution_count": 180,
   "id": "04ed2559",
   "metadata": {},
   "outputs": [
    {
     "data": {
      "text/plain": [
       "8"
      ]
     },
     "execution_count": 180,
     "metadata": {},
     "output_type": "execute_result"
    }
   ],
   "source": [
    "len(genres_tuple)"
   ]
  },
  {
   "cell_type": "markdown",
   "id": "da7e6e67",
   "metadata": {},
   "source": [
    "Task 2: Access the element corresponding to index 3"
   ]
  },
  {
   "cell_type": "code",
   "execution_count": 181,
   "id": "0a212dbb",
   "metadata": {},
   "outputs": [
    {
     "data": {
      "text/plain": [
       "'hard rock'"
      ]
     },
     "execution_count": 181,
     "metadata": {},
     "output_type": "execute_result"
    }
   ],
   "source": [
    "genres_tuple[3]"
   ]
  },
  {
   "cell_type": "markdown",
   "id": "2b267fc5",
   "metadata": {},
   "source": [
    "Task 3: Use slicing to access index 3, 4, and 5"
   ]
  },
  {
   "cell_type": "code",
   "execution_count": 183,
   "id": "c8a44adf",
   "metadata": {},
   "outputs": [
    {
     "data": {
      "text/plain": [
       "('hard rock', 'soft rock', 'R&B')"
      ]
     },
     "execution_count": 183,
     "metadata": {},
     "output_type": "execute_result"
    }
   ],
   "source": [
    "genres_tuple[3:6]"
   ]
  },
  {
   "cell_type": "markdown",
   "id": "8ab9f3a5",
   "metadata": {},
   "source": [
    "Task 4: Find the first two elements of the tuple"
   ]
  },
  {
   "cell_type": "code",
   "execution_count": 184,
   "id": "e04db1de",
   "metadata": {},
   "outputs": [
    {
     "data": {
      "text/plain": [
       "('pop', 'rock')"
      ]
     },
     "execution_count": 184,
     "metadata": {},
     "output_type": "execute_result"
    }
   ],
   "source": [
    "genres_tuple[0:2]"
   ]
  },
  {
   "cell_type": "markdown",
   "id": "748c9bd2",
   "metadata": {},
   "source": [
    "Task 5: find the first index of 'disco'"
   ]
  },
  {
   "cell_type": "code",
   "execution_count": 185,
   "id": "92273f75",
   "metadata": {},
   "outputs": [
    {
     "data": {
      "text/plain": [
       "7"
      ]
     },
     "execution_count": 185,
     "metadata": {},
     "output_type": "execute_result"
    }
   ],
   "source": [
    "genres_tuple.index('disco')"
   ]
  },
  {
   "cell_type": "code",
   "execution_count": null,
   "id": "4a11522c",
   "metadata": {},
   "outputs": [],
   "source": [
    "task 6: Generate a sorted List from the Tuple C_tuple=(-5, 1, -3)"
   ]
  },
  {
   "cell_type": "code",
   "execution_count": 188,
   "id": "01db005a",
   "metadata": {},
   "outputs": [
    {
     "data": {
      "text/plain": [
       "[-5, -3, 1]"
      ]
     },
     "execution_count": 188,
     "metadata": {},
     "output_type": "execute_result"
    }
   ],
   "source": [
    "C_tuple=(-5, 1, -3)\n",
    "c_list = sorted(C_tuple)\n",
    "c_list"
   ]
  },
  {
   "cell_type": "markdown",
   "id": "4532e574",
   "metadata": {},
   "source": [
    "##### Lists\n",
    "Another popular data structure in python, a sequenced compound type. Lists can contain strings, floats, ints. They can also contain nested lists and tuples. they are created by including the elements of the list within square brackets. List operations include slicing, and methods are such as appending and extending.  The major differene between lists and tuples is that lists are muttable. Thus we use the cloning function to overcome the side effects of mutability."
   ]
  },
  {
   "cell_type": "code",
   "execution_count": 136,
   "id": "5e6011da",
   "metadata": {},
   "outputs": [
    {
     "data": {
      "text/plain": [
       "list"
      ]
     },
     "execution_count": 136,
     "metadata": {},
     "output_type": "execute_result"
    }
   ],
   "source": [
    "list1 = ['Uganda', 'cartoon network', animals, nested_tuple]\n",
    "type(list)"
   ]
  },
  {
   "cell_type": "code",
   "execution_count": 137,
   "id": "4eb7b2c1",
   "metadata": {},
   "outputs": [
    {
     "data": {
      "text/plain": [
       "'amigo'"
      ]
     },
     "execution_count": 137,
     "metadata": {},
     "output_type": "execute_result"
    }
   ],
   "source": [
    "#indexing works the same as for tuples\n",
    "list1[2][5]"
   ]
  },
  {
   "cell_type": "code",
   "execution_count": 139,
   "id": "9e1fa4f9",
   "metadata": {},
   "outputs": [
    {
     "data": {
      "text/plain": [
       "['Uganda',\n",
       " 'cartoon network',\n",
       " ('cat', 'coedog', 4, 10, 'eagle', 'amigo', 1, 2, 3),\n",
       " ('angel', 'devil', ('cat', 'coedog', 4, 10, 'eagle', 'amigo', 1, 2, 3)),\n",
       " 'ogopa',\n",
       " 'dj']"
      ]
     },
     "execution_count": 139,
     "metadata": {},
     "output_type": "execute_result"
    }
   ],
   "source": [
    "#because lists are mutable, we can apply methods such as extend and append. \n",
    "#Extend adds individual elements of a list to a new list\n",
    "list1.extend(['ogopa', 'dj'])\n",
    "list1"
   ]
  },
  {
   "cell_type": "code",
   "execution_count": 141,
   "id": "26f82339",
   "metadata": {},
   "outputs": [
    {
     "data": {
      "text/plain": [
       "['Uganda',\n",
       " 'cartoon network',\n",
       " ('cat', 'coedog', 4, 10, 'eagle', 'amigo', 1, 2, 3),\n",
       " ('angel', 'devil', ('cat', 'coedog', 4, 10, 'eagle', 'amigo', 1, 2, 3)),\n",
       " 'ogopa',\n",
       " 'dj',\n",
       " ['what', 'now'],\n",
       " ['what', 'now']]"
      ]
     },
     "execution_count": 141,
     "metadata": {},
     "output_type": "execute_result"
    }
   ],
   "source": [
    "#append method adds individual elements of a list to another list\n",
    "list1.append(['what', 'now'])\n",
    "list1"
   ]
  },
  {
   "cell_type": "code",
   "execution_count": 144,
   "id": "6a7f66c0",
   "metadata": {},
   "outputs": [
    {
     "data": {
      "text/plain": [
       "['Uganda',\n",
       " 'cartoon network',\n",
       " ('cat', 'coedog', 4, 10, 'eagle', 'amigo', 1, 2, 3),\n",
       " ('angel', 'devil', ('cat', 'coedog', 4, 10, 'eagle', 'amigo', 1, 2, 3)),\n",
       " 'ogopa',\n",
       " 'dj']"
      ]
     },
     "execution_count": 144,
     "metadata": {},
     "output_type": "execute_result"
    }
   ],
   "source": [
    "#we use del command to remove an element from a list\n",
    "del(list1[6])\n",
    "list1"
   ]
  },
  {
   "cell_type": "code",
   "execution_count": 149,
   "id": "5e3cd8f2",
   "metadata": {},
   "outputs": [
    {
     "data": {
      "text/plain": [
       "['into the dark void']"
      ]
     },
     "execution_count": 149,
     "metadata": {},
     "output_type": "execute_result"
    }
   ],
   "source": [
    "#the split method separates every element of a character into a separate character. Here we use ',' as sa delimeter\n",
    "\"into the dark void\".split('.')"
   ]
  },
  {
   "cell_type": "code",
   "execution_count": 164,
   "id": "30dc10ca",
   "metadata": {},
   "outputs": [
    {
     "data": {
      "text/plain": [
       "['hard rock', 1, 2]"
      ]
     },
     "execution_count": 164,
     "metadata": {},
     "output_type": "execute_result"
    }
   ],
   "source": [
    "#aliasing is setting multiple names to refer to one variable\n",
    "A = ['banana', 1, 2]\n",
    "B = A\n",
    "#if I change the value of the first element in a, b changes as well\n",
    "A[0] = 'hard rock'\n",
    "B"
   ]
  },
  {
   "cell_type": "code",
   "execution_count": 165,
   "id": "bad6ccb3",
   "metadata": {},
   "outputs": [
    {
     "data": {
      "text/plain": [
       "['hard rock', 1, 2]"
      ]
     },
     "execution_count": 165,
     "metadata": {},
     "output_type": "execute_result"
    }
   ],
   "source": [
    "#to overcome this feature, we can clone list a by using the syntax [:]\n",
    "B = A[:]\n",
    "B"
   ]
  },
  {
   "cell_type": "code",
   "execution_count": 167,
   "id": "c2c1d471",
   "metadata": {},
   "outputs": [
    {
     "data": {
      "text/plain": [
       "['hard rock', 1, 2]"
      ]
     },
     "execution_count": 167,
     "metadata": {},
     "output_type": "execute_result"
    }
   ],
   "source": [
    "A[0] = \"hard rock\"\n",
    "B"
   ]
  },
  {
   "cell_type": "markdown",
   "id": "1bd1a6c8",
   "metadata": {},
   "source": [
    "##### Scenario: Shopping List\n",
    "Let us create a scenario to practice using lists"
   ]
  },
  {
   "cell_type": "markdown",
   "id": "f7287216",
   "metadata": {},
   "source": [
    "Task 1: Create an empty list"
   ]
  },
  {
   "cell_type": "code",
   "execution_count": 168,
   "id": "32786112",
   "metadata": {},
   "outputs": [],
   "source": [
    "\n",
    "shopping_list = []"
   ]
  },
  {
   "cell_type": "markdown",
   "id": "bb8d39e4",
   "metadata": {},
   "source": [
    "Task 2: Store  items in the list: watch, laptop, shoes, pen, clothes,"
   ]
  },
  {
   "cell_type": "code",
   "execution_count": 169,
   "id": "25264248",
   "metadata": {},
   "outputs": [],
   "source": [
    "shopping_list = ['watch', 'laptop', 'shoes', 'pen', 'clothes']"
   ]
  },
  {
   "cell_type": "markdown",
   "id": "77cb27b0",
   "metadata": {},
   "source": [
    "Task 3: add a new item to the list. You forgot that you need a football"
   ]
  },
  {
   "cell_type": "code",
   "execution_count": 171,
   "id": "9b634173",
   "metadata": {},
   "outputs": [],
   "source": [
    "shopping_list = shopping_list + ['football']"
   ]
  },
  {
   "cell_type": "markdown",
   "id": "537c3bdd",
   "metadata": {},
   "source": [
    "task 4: Print the first item in your shopping list"
   ]
  },
  {
   "cell_type": "code",
   "execution_count": 172,
   "id": "d3becf4b",
   "metadata": {},
   "outputs": [
    {
     "name": "stdout",
     "output_type": "stream",
     "text": [
      "watch\n"
     ]
    }
   ],
   "source": [
    "print(shopping_list[0])"
   ]
  },
  {
   "cell_type": "markdown",
   "id": "d966714e",
   "metadata": {},
   "source": [
    "Task 5: print the last item from your shoppig list"
   ]
  },
  {
   "cell_type": "code",
   "execution_count": 173,
   "id": "6e4f232c",
   "metadata": {},
   "outputs": [
    {
     "name": "stdout",
     "output_type": "stream",
     "text": [
      "football\n"
     ]
    }
   ],
   "source": [
    "print(shopping_list[-1])"
   ]
  },
  {
   "cell_type": "markdown",
   "id": "3c5038ae",
   "metadata": {},
   "source": [
    "Task 6: Print the entire shopping list"
   ]
  },
  {
   "cell_type": "code",
   "execution_count": 174,
   "id": "f2c8c2b6",
   "metadata": {},
   "outputs": [
    {
     "name": "stdout",
     "output_type": "stream",
     "text": [
      "['watch', 'laptop', 'shoes', 'pen', 'clothes', 'football']\n"
     ]
    }
   ],
   "source": [
    "print(shopping_list)"
   ]
  },
  {
   "cell_type": "markdown",
   "id": "d9462089",
   "metadata": {},
   "source": [
    "Task 7: Print the important items from your list: laptop and shoes"
   ]
  },
  {
   "cell_type": "code",
   "execution_count": 175,
   "id": "bfd106e1",
   "metadata": {},
   "outputs": [
    {
     "name": "stdout",
     "output_type": "stream",
     "text": [
      "['laptop', 'shoes']\n"
     ]
    }
   ],
   "source": [
    "print(shopping_list[1:3])"
   ]
  },
  {
   "cell_type": "markdown",
   "id": "5b4172d2",
   "metadata": {},
   "source": [
    "Task 8: Change the item from the shopping list from pen to notebook"
   ]
  },
  {
   "cell_type": "code",
   "execution_count": 176,
   "id": "e5a00fed",
   "metadata": {},
   "outputs": [],
   "source": [
    "shopping_list[3] = 'notebook'"
   ]
  },
  {
   "cell_type": "markdown",
   "id": "bc2a6361",
   "metadata": {},
   "source": [
    "Task 9: delete an item from the list that you no longer requie, clothers"
   ]
  },
  {
   "cell_type": "code",
   "execution_count": 177,
   "id": "e586f22b",
   "metadata": {},
   "outputs": [],
   "source": [
    "del(shopping_list[-2])"
   ]
  },
  {
   "cell_type": "markdown",
   "id": "28a0626d",
   "metadata": {},
   "source": [
    "Task 10: Print the shopping list"
   ]
  },
  {
   "cell_type": "code",
   "execution_count": 178,
   "id": "1167b5f4",
   "metadata": {},
   "outputs": [
    {
     "name": "stdout",
     "output_type": "stream",
     "text": [
      "['watch', 'laptop', 'shoes', 'notebook', 'football']\n"
     ]
    }
   ],
   "source": [
    "print(shopping_list)"
   ]
  },
  {
   "cell_type": "markdown",
   "id": "0499e012",
   "metadata": {},
   "source": [
    "### Type Casting\n",
    "You can change the type of expression in Python, a process called typecasting. For example, tyou can change a float to an integer."
   ]
  },
  {
   "cell_type": "code",
   "execution_count": 9,
   "id": "4f64808c",
   "metadata": {},
   "outputs": [
    {
     "data": {
      "text/plain": [
       "2.0"
      ]
     },
     "execution_count": 9,
     "metadata": {},
     "output_type": "execute_result"
    }
   ],
   "source": [
    "float(2)"
   ]
  },
  {
   "cell_type": "markdown",
   "id": "cc6943c4",
   "metadata": {},
   "source": [
    "You can also cast a float to an integer but you are liable to lose some information."
   ]
  },
  {
   "cell_type": "code",
   "execution_count": 12,
   "id": "8388d65f",
   "metadata": {},
   "outputs": [
    {
     "data": {
      "text/plain": [
       "1"
      ]
     },
     "execution_count": 12,
     "metadata": {},
     "output_type": "execute_result"
    }
   ],
   "source": [
    "int(1.5)"
   ]
  },
  {
   "cell_type": "markdown",
   "id": "1680bfd2",
   "metadata": {},
   "source": [
    "You can also convert strings into integers or floats they contain a numerical value."
   ]
  },
  {
   "cell_type": "code",
   "execution_count": 13,
   "id": "8f22e808",
   "metadata": {},
   "outputs": [
    {
     "data": {
      "text/plain": [
       "1"
      ]
     },
     "execution_count": 13,
     "metadata": {},
     "output_type": "execute_result"
    }
   ],
   "source": [
    "int(\"1\")"
   ]
  },
  {
   "cell_type": "markdown",
   "id": "128db116",
   "metadata": {},
   "source": [
    "However, if you convert any other string you get an error"
   ]
  },
  {
   "cell_type": "code",
   "execution_count": 68,
   "id": "acb470fd",
   "metadata": {},
   "outputs": [
    {
     "ename": "ValueError",
     "evalue": "invalid literal for int() with base 10: '1 person and 5 cars'",
     "output_type": "error",
     "traceback": [
      "\u001b[1;31m---------------------------------------------------------------------------\u001b[0m",
      "\u001b[1;31mValueError\u001b[0m                                Traceback (most recent call last)",
      "Cell \u001b[1;32mIn[68], line 1\u001b[0m\n\u001b[1;32m----> 1\u001b[0m \u001b[38;5;28;43mint\u001b[39;49m\u001b[43m(\u001b[49m\u001b[38;5;124;43m\"\u001b[39;49m\u001b[38;5;124;43m1 person and 5 cars\u001b[39;49m\u001b[38;5;124;43m\"\u001b[39;49m\u001b[43m)\u001b[49m\n",
      "\u001b[1;31mValueError\u001b[0m: invalid literal for int() with base 10: '1 person and 5 cars'"
     ]
    }
   ],
   "source": [
    "int(\"1 person and 5 cars\")"
   ]
  },
  {
   "cell_type": "markdown",
   "id": "10fb0874",
   "metadata": {},
   "source": [
    "You can covert an integer or a float into a string."
   ]
  },
  {
   "cell_type": "code",
   "execution_count": 16,
   "id": "fdfff875",
   "metadata": {},
   "outputs": [
    {
     "data": {
      "text/plain": [
       "'1'"
      ]
     },
     "execution_count": 16,
     "metadata": {},
     "output_type": "execute_result"
    }
   ],
   "source": [
    "str(1)"
   ]
  },
  {
   "cell_type": "code",
   "execution_count": 17,
   "id": "423a2e28",
   "metadata": {},
   "outputs": [
    {
     "data": {
      "text/plain": [
       "'1.2'"
      ]
     },
     "execution_count": 17,
     "metadata": {},
     "output_type": "execute_result"
    }
   ],
   "source": [
    "str(1.2)"
   ]
  },
  {
   "cell_type": "markdown",
   "id": "dc9a3a7a",
   "metadata": {},
   "source": [
    "You can cast a boolian into integers, floats, or strings."
   ]
  },
  {
   "cell_type": "code",
   "execution_count": 21,
   "id": "8c4411b6",
   "metadata": {},
   "outputs": [
    {
     "data": {
      "text/plain": [
       "1"
      ]
     },
     "execution_count": 21,
     "metadata": {},
     "output_type": "execute_result"
    }
   ],
   "source": [
    "int(True)"
   ]
  },
  {
   "cell_type": "code",
   "execution_count": 22,
   "id": "f5548bca",
   "metadata": {},
   "outputs": [
    {
     "data": {
      "text/plain": [
       "0"
      ]
     },
     "execution_count": 22,
     "metadata": {},
     "output_type": "execute_result"
    }
   ],
   "source": [
    "int(False)"
   ]
  },
  {
   "cell_type": "code",
   "execution_count": 23,
   "id": "b51bac82",
   "metadata": {},
   "outputs": [
    {
     "data": {
      "text/plain": [
       "1.0"
      ]
     },
     "execution_count": 23,
     "metadata": {},
     "output_type": "execute_result"
    }
   ],
   "source": [
    "float(True)"
   ]
  },
  {
   "cell_type": "code",
   "execution_count": 24,
   "id": "18e42998",
   "metadata": {},
   "outputs": [
    {
     "data": {
      "text/plain": [
       "0.0"
      ]
     },
     "execution_count": 24,
     "metadata": {},
     "output_type": "execute_result"
    }
   ],
   "source": [
    "float(False)"
   ]
  },
  {
   "cell_type": "code",
   "execution_count": 25,
   "id": "9a4019ec",
   "metadata": {},
   "outputs": [
    {
     "data": {
      "text/plain": [
       "'True'"
      ]
     },
     "execution_count": 25,
     "metadata": {},
     "output_type": "execute_result"
    }
   ],
   "source": [
    "str(True)"
   ]
  },
  {
   "cell_type": "code",
   "execution_count": 26,
   "id": "6fbe87ec",
   "metadata": {},
   "outputs": [
    {
     "data": {
      "text/plain": [
       "'False'"
      ]
     },
     "execution_count": 26,
     "metadata": {},
     "output_type": "execute_result"
    }
   ],
   "source": [
    "str(False)"
   ]
  },
  {
   "cell_type": "markdown",
   "id": "3211a169",
   "metadata": {},
   "source": [
    "### Expressions"
   ]
  },
  {
   "cell_type": "markdown",
   "id": "a045d9c2",
   "metadata": {},
   "source": [
    "Expressions describe a type of operations between compatible types such as integers and floats. For example basic arithmetic operations like addition, subtraction, multiplication, and division. Expressions involve operands (the numbers being operated), the opreration represented by a symbol such as +, -, /, //, * in Python."
   ]
  },
  {
   "cell_type": "code",
   "execution_count": 32,
   "id": "39bd9477",
   "metadata": {},
   "outputs": [
    {
     "data": {
      "text/plain": [
       "19"
      ]
     },
     "execution_count": 32,
     "metadata": {},
     "output_type": "execute_result"
    }
   ],
   "source": [
    "3+7+9"
   ]
  },
  {
   "cell_type": "code",
   "execution_count": 33,
   "id": "1982c304",
   "metadata": {},
   "outputs": [
    {
     "data": {
      "text/plain": [
       "2"
      ]
     },
     "execution_count": 33,
     "metadata": {},
     "output_type": "execute_result"
    }
   ],
   "source": [
    "6-4"
   ]
  },
  {
   "cell_type": "code",
   "execution_count": 34,
   "id": "e02b4a71",
   "metadata": {},
   "outputs": [
    {
     "data": {
      "text/plain": [
       "72"
      ]
     },
     "execution_count": 34,
     "metadata": {},
     "output_type": "execute_result"
    }
   ],
   "source": [
    "8*9"
   ]
  },
  {
   "cell_type": "code",
   "execution_count": 36,
   "id": "6816651e",
   "metadata": {},
   "outputs": [
    {
     "data": {
      "text/plain": [
       "5.2"
      ]
     },
     "execution_count": 36,
     "metadata": {},
     "output_type": "execute_result"
    }
   ],
   "source": [
    "26/5"
   ]
  },
  {
   "cell_type": "code",
   "execution_count": 38,
   "id": "26148ea1",
   "metadata": {},
   "outputs": [
    {
     "data": {
      "text/plain": [
       "5"
      ]
     },
     "execution_count": 38,
     "metadata": {},
     "output_type": "execute_result"
    }
   ],
   "source": [
    "26//5\n",
    "#this is integer division that returns a rounded solution"
   ]
  },
  {
   "cell_type": "markdown",
   "id": "e8b58f04",
   "metadata": {},
   "source": [
    "Python follows mathematical conventions when performing mathematical expressions."
   ]
  },
  {
   "cell_type": "code",
   "execution_count": 40,
   "id": "8a681c93",
   "metadata": {},
   "outputs": [
    {
     "data": {
      "text/plain": [
       "982"
      ]
     },
     "execution_count": 40,
     "metadata": {},
     "output_type": "execute_result"
    }
   ],
   "source": [
    "23*45-54+1"
   ]
  },
  {
   "cell_type": "code",
   "execution_count": 41,
   "id": "00790903",
   "metadata": {},
   "outputs": [
    {
     "data": {
      "text/plain": [
       "982"
      ]
     },
     "execution_count": 41,
     "metadata": {},
     "output_type": "execute_result"
    }
   ],
   "source": [
    "1-54+23*45"
   ]
  },
  {
   "cell_type": "markdown",
   "id": "f3aba183",
   "metadata": {},
   "source": [
    "### Variables"
   ]
  },
  {
   "cell_type": "markdown",
   "id": "8400fb09",
   "metadata": {},
   "source": [
    "Variables can be used to store values using the assignment operator \"=\" and use the variable elsewherein the code."
   ]
  },
  {
   "cell_type": "code",
   "execution_count": 43,
   "id": "aca70f82",
   "metadata": {},
   "outputs": [],
   "source": [
    "my_variable = 1"
   ]
  },
  {
   "cell_type": "code",
   "execution_count": 44,
   "id": "a107ac28",
   "metadata": {},
   "outputs": [
    {
     "data": {
      "text/plain": [
       "1"
      ]
     },
     "execution_count": 44,
     "metadata": {},
     "output_type": "execute_result"
    }
   ],
   "source": [
    "my_variable"
   ]
  },
  {
   "cell_type": "markdown",
   "id": "58242b9d",
   "metadata": {},
   "source": [
    "You can overwrite the value of the variable using the assignment operator."
   ]
  },
  {
   "cell_type": "code",
   "execution_count": 46,
   "id": "9214ee37",
   "metadata": {},
   "outputs": [],
   "source": [
    "my_variable = 10"
   ]
  },
  {
   "cell_type": "code",
   "execution_count": 47,
   "id": "618a9543",
   "metadata": {},
   "outputs": [
    {
     "data": {
      "text/plain": [
       "10"
      ]
     },
     "execution_count": 47,
     "metadata": {},
     "output_type": "execute_result"
    }
   ],
   "source": [
    "my_variable"
   ]
  },
  {
   "cell_type": "markdown",
   "id": "83426b35",
   "metadata": {},
   "source": [
    "Results of expressions can be stored in the variables, and operations can be performed on variables."
   ]
  },
  {
   "cell_type": "code",
   "execution_count": 48,
   "id": "96b9a79e",
   "metadata": {},
   "outputs": [],
   "source": [
    "x = 34+46-20"
   ]
  },
  {
   "cell_type": "code",
   "execution_count": 49,
   "id": "09da8695",
   "metadata": {},
   "outputs": [
    {
     "data": {
      "text/plain": [
       "60"
      ]
     },
     "execution_count": 49,
     "metadata": {},
     "output_type": "execute_result"
    }
   ],
   "source": [
    "x"
   ]
  },
  {
   "cell_type": "code",
   "execution_count": 50,
   "id": "ad69b34e",
   "metadata": {},
   "outputs": [
    {
     "data": {
      "text/plain": [
       "6.0"
      ]
     },
     "execution_count": 50,
     "metadata": {},
     "output_type": "execute_result"
    }
   ],
   "source": [
    "x/10"
   ]
  },
  {
   "cell_type": "code",
   "execution_count": 51,
   "id": "23561afc",
   "metadata": {},
   "outputs": [],
   "source": [
    "x=x/10"
   ]
  },
  {
   "cell_type": "code",
   "execution_count": 52,
   "id": "43f1d445",
   "metadata": {},
   "outputs": [
    {
     "data": {
      "text/plain": [
       "6.0"
      ]
     },
     "execution_count": 52,
     "metadata": {},
     "output_type": "execute_result"
    }
   ],
   "source": [
    "x"
   ]
  },
  {
   "cell_type": "markdown",
   "id": "b54c74c1",
   "metadata": {},
   "source": [
    "You can use the type command with variables as well"
   ]
  },
  {
   "cell_type": "code",
   "execution_count": 53,
   "id": "9befd788",
   "metadata": {},
   "outputs": [
    {
     "data": {
      "text/plain": [
       "float"
      ]
     },
     "execution_count": 53,
     "metadata": {},
     "output_type": "execute_result"
    }
   ],
   "source": [
    "type(x)"
   ]
  },
  {
   "cell_type": "markdown",
   "id": "360075a7",
   "metadata": {},
   "source": [
    "It is good practice to use meaningful variable names so you don't have to keep wondering what the variable means. For example, dist for distance, dist_m for distance in meters, etc."
   ]
  },
  {
   "cell_type": "code",
   "execution_count": null,
   "id": "e79fabe8",
   "metadata": {},
   "outputs": [],
   "source": []
  }
 ],
 "metadata": {
  "kernelspec": {
   "display_name": "Python 3 (ipykernel)",
   "language": "python",
   "name": "python3"
  },
  "language_info": {
   "codemirror_mode": {
    "name": "ipython",
    "version": 3
   },
   "file_extension": ".py",
   "mimetype": "text/x-python",
   "name": "python",
   "nbconvert_exporter": "python",
   "pygments_lexer": "ipython3",
   "version": "3.10.9"
  }
 },
 "nbformat": 4,
 "nbformat_minor": 5
}
